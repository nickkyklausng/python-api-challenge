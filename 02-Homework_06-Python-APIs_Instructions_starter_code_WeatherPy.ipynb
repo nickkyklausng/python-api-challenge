{
 "cells": [
  {
   "cell_type": "markdown",
   "metadata": {},
   "source": [
    "# WeatherPy\n",
    "----\n",
    "\n",
    "#### Note\n",
    "* Instructions have been included for each segment. You do not have to follow them exactly, but they are included to help you think through the steps."
   ]
  },
  {
   "cell_type": "code",
   "execution_count": 1,
   "metadata": {
    "scrolled": true
   },
   "outputs": [],
   "source": [
    "# Dependencies\n",
    "import matplotlib.pyplot as plt\n",
    "import requests\n",
    "import numpy as np\n",
    "import pandas as pd\n",
    "import time\n",
    "import datetime as dt\n",
    "import json\n",
    "from scipy import stats\n",
    "from scipy.stats import linregress\n",
    "from sklearn import datasets\n",
    "\n",
    "# open and link api_key\n",
    "from config import api_key\n",
    "\n",
    "from citipy import citipy\n"
   ]
  },
  {
   "cell_type": "markdown",
   "metadata": {},
   "source": [
    "## Generate Cities List"
   ]
  },
  {
   "cell_type": "code",
   "execution_count": 2,
   "metadata": {},
   "outputs": [
    {
     "name": "stdout",
     "output_type": "stream",
     "text": [
      "587\n"
     ]
    }
   ],
   "source": [
    "lats_longs = []\n",
    "cities_lists = []\n",
    "\n",
    "#Latitude = -90 to 90 degress\n",
    "#Longitude = -180 to 180 degrees\n",
    "\n",
    "#Generate random longitude and latitude combinations\n",
    "\n",
    "latitude = np.random.uniform(low = -90, high = 90, size = 1500)\n",
    "longitude = np.random.uniform(low = -180, high = 180, size = 1500)\n",
    "\n",
    "lats_longs = zip(latitude, longitude)\n",
    "\n",
    "#Identify nearest cities of each longitude and latitude combinations\n",
    "for lat_long in lats_longs:\n",
    "    city = citipy.nearest_city(lat_long[0], lat_long[1]).city_name\n",
    "    \n",
    "    #If the city is unique, add it to the cities list\n",
    "    \n",
    "    if city not in cities_lists:\n",
    "        cities_lists.append(city)\n",
    "        \n",
    "#print city count.\n",
    "\n",
    "print(len(cities_lists))"
   ]
  },
  {
   "cell_type": "code",
   "execution_count": 3,
   "metadata": {},
   "outputs": [
    {
     "name": "stdout",
     "output_type": "stream",
     "text": [
      "['karaton', 'tiksi', 'harwich', 'samarai', 'busselton', 'norman wells', 'mataura', 'matara', 'yarmouth', 'cabo san lucas', 'hobart', 'vostok', 'punta arenas', 'srednekolymsk', 'puerto ayora', 'atambua', 'avera', 'severo-kurilsk', 'vaini', 'nizhneyansk', 'sitka', 'new norfolk', 'bredasdorp', 'buluang', 'cape town', 'chokurdakh', 'lasa', 'jamestown', 'longyearbyen', 'ribeira grande', 'barrow', 'salisbury', 'samagaltay', 'iqaluit', 'hermanus', 'lebu', 'vestmannaeyjar', 'khatanga', 'cardston', 'carnarvon', 'venado tuerto', 'rikitea', 'ushuaia', 'hilo', 'castro', 'bengkulu', 'grand gaube', 'georgetown', 'kapaa', 'sarankhola', 'kitui', 'kendari', 'nouakchott', 'ulladulla', 'katsuura', 'nome', 'kaitangata', 'camacha', 'hithadhoo', 'avarua', 'owatonna', 'nalut', 'aklavik', 'deputatskiy', 'qaanaaq', 'san patricio', 'anloga', 'mar del plata', 'birao', 'lavrentiya', 'atuona', 'amderma', 'sioux lookout', 'saint-pierre', 'ahipara', 'illoqqortoormiut', 'yerbogachen', 'gwadar', 'marcona', 'port elizabeth', 'aiken', 'arraial do cabo', 'eureka', 'shimoda', 'takoradi', 'doctor pedro p. pena', 'clyde river', 'maumere', 'kibala', 'bambous virieux', 'tuktoyaktuk', 'albany', 'foumban', 'touros', 'pachino', 'mugur-aksy', 'luderitz', 'aguimes', 'mandera', 'mbanza-ngungu', 'kharovsk', 'sawakin', 'bargal', 'saint george', 'faya', 'port macquarie', 'port alfred', 'harper', 'bethel', 'tsihombe', 'upata', 'east london', 'olga', 'kawalu', 'faanui', 'kodiak', 'cabedelo', 'bluff', 'nemuro', 'pisco', 'klaksvik', 'taolanaro', 'barentsburg', 'tessalit', 'semnan', 'zhigansk', 'bacuit', 'catamarca', 'san andres', 'hasaki', 'rapid city', 'saint-philippe', 'monte carmelo', 'thompson', 'fort-shevchenko', 'taltal', 'oistins', 'allanmyo', 'victoria', 'tuatapere', 'mocuba', 'canto do buriti', 'belushya guba', 'kyshtovka', 'ancud', 'airai', 'berlevag', 'itarema', 'mys shmidta', 'saskylakh', 'soyo', 'tierranueva', 'ludza', 'geraldton', 'college', 'ixtapa', 'yellowknife', 'kutum', 'rurrenabaque', 'timmins', 'coquimbo', 'nehe', 'nouadhibou', 'along', 'mount isa', 'nikolskoye', 'gat', 'sonamukhi', 'hovd', 'caravelas', 'turukhansk', 'ostrovnoy', 'bud', 'pendleton', 'souillac', 'dikson', 'champerico', 'belmonte', 'kuzovatovo', 'itatskiy', 'quthing', 'constitucion', 'butaritari', 'high level', 'sao filipe', 'port hardy', 'salalah', 'tartagal', 'vila velha', 'walvis bay', 'vanimo', 'gravdal', 'alofi', 'portland', 'alihe', 'kollam', 'campana', 'san juan de colon', 'shenjiamen', 'umba', 'marsh harbour', 'sabla', 'palabuhanratu', 'kathmandu', 'vila franca do campo', 'harnosand', 'kavieng', 'saint-paul', 'sol-iletsk', 'adolfo lopez mateos', 'simeykyne', 'chuy', 'upernavik', 'mahadday weyne', 'balikpapan', 'zwedru', 'namibe', 'tutoia', 'cumaribo', 'quijingue', 'guerrero negro', 'sangar', 'nazarovo', 'grindavik', 'gilgit', 'vaitupu', 'teknaf', 'broome', 'fairbanks', 'mareeba', 'palencia', 'potsdam', 'visnes', 'tasiilaq', 'sisimiut', 'nassau', 'aksarka', 'sayyan', 'kapit', 'novaya mayna', 'talnakh', 'aguadas', 'hosakote', 'imbituba', 'aden', 'emerald', 'torbay', 'labrea', 'tautira', 'bubaque', 'ola', 'pangnirtung', 'kupang', 'jiaojiang', 'mustasaari', 'alice springs', 'havre-saint-pierre', 'byron bay', 'quatre cocos', 'mount gambier', 'vuktyl', 'ipanguacu', 'grand river south east', 'magway', 'pevek', 'alotau', 'alindao', 'provideniya', 'coahuayana', 'itumba', 'lagoa', 'osoyoos', 'sukumo', 'san quintin', 'sorland', 'kruisfontein', 'gerash', 'ranong', 'xichang', 'samana', 'auly', 'barvinkove', 'dzhebariki-khaya', 'aksu', 'saint anthony', 'terra santa', 'tadine', 'zhanaozen', 'kovdor', 'kemijarvi', 'rawson', 'sinnamary', 'vangaindrano', 'fatezh', 'bloomington', 'camana', 'anadyr', 'noumea', 'manzhouli', 'iwaki', 'mtambile', 'fortuna', 'warman', 'north myrtle beach', 'cherskiy', 'tairua', 'basco', 'kuvandyk', 'marawi', 'cidreira', 'volnovakha', 'xilopolis', 'dunn', 'moerai', 'jinxiang', 'copiapo', 'balkhash', 'petropavlovsk-kamchatskiy', 'qostanay', 'samusu', 'laguna', 'narsaq', 'turan', 'boa vista', 'saldanha', 'padang', 'hihifo', 'benguela', 'amapa', 'manono', 'paraiso', 'ust-nera', 'saquarema', 'tuytepa', 'suntar', 'ballina', 'inuvik', 'gweta', 'arlit', 'merauke', 'fayaoue', 'belaya gora', 'ukiah', 'bara', 'mednogorsk', 'ust-tsilma', 'najran', 'yantal', 'te anau', 'kropotkin', 'meadow lake', 'bathsheba', 'kuche', 'jiehu', 'vao', 'sola', 'pimentel', 'lorengau', 'acajutla', 'kavaratti', 'mitu', 'alta floresta', 'umm kaddadah', 'mecca', 'zharkovskiy', 'loikaw', 'kuala terengganu', 'salta', 'port lincoln', 'lumeje', 'posse', 'dwarka', 'ninghai', 'muros', 'hualmay', 'ponta do sol', 'mahebourg', 'makarov', 'kano', 'hailey', 'potiskum', 'ucluelet', 'cap malheureux', 'viedma', 'dingle', 'beisfjord', 'roebourne', 'kitimat', 'saint-georges', 'muravlenko', 'karkaralinsk', 'makakilo city', 'oranjemund', 'ilulissat', 'leiyang', 'komsomolskiy', 'dauriya', 'roma', 'san felipe', 'pudozh', 'toropets', 'jibuti', 'verkhoyansk', 'saint-felicien', 'kostomuksha', 'fevik', 'nanortalik', 'marathon', 'novo aripuana', 'wanning', 'naze', 'itaituba', 'navalmoral de la mata', 'jiuquan', 'bosobolo', 'doha', 'vinukonda', 'barbar', 'killybegs', 'grand centre', 'pouebo', 'galesong', 'attawapiskat', 'puerto quijarro', 'casper', 'waddan', 'palanga', 'porbandar', 'tabiauea', 'leticia', 'ust-kamchatsk', 'qandala', 'lewiston', 'hofn', 'kamenskoye', 'north bay', 'saint-augustin', 'arteaga', 'salym', 'traverse city', 'jablah', 'tungor', 'skjervoy', 'mendi', 'mackay', 'zabid', 'nuuk', 'dungarpur', 'tiarei', 'zhuhai', 'panzhihua', 'nishihara', 'mpulungu', 'saleaula', 'sfantu gheorghe', 'atar', 'heidelberg', 'sur', 'san vicente', 'sao jose da coroa grande', 'melfi', 'muzhappilangad', 'muzquiz', 'kirakira', 'boguchany', 'hami', 'warqla', 'hirara', 'shelburne', 'westerland', 'baneh', 'mbacke', 'kismayo', 'wates', 'ovalle', 'quelimane', 'manaure', 'zambezi', 'panama city', 'luau', 'mitsamiouli', 'karpathos', 'kurumkan', 'berberati', 'rudnogorsk', 'brainerd', 'roald', 'bom jardim', 'arman', 'agadir', 'pitea', 'santa lucia', 'divo', 'adrar', 'jalu', 'pingliang', 'ahuimanu', 'esperance', 'rocky mountain house', 'schwalmtal', 'locri', 'pedernales', 'treinta y tres', 'eydhafushi', 'umm durman', 'aitape', 'brikama', 'lyuban', 'tartki', 'lolua', 'cabra', 'skegness', 'beringovskiy', 'hammerfest', 'turayf', 'suarez', 'kudahuvadhoo', 'ilebo', 'usinsk', 'sault sainte marie', 'west bay', 'samastipur', 'pirovskoye', 'la libertad', 'maceio', 'biloela', 'san borja', 'lucapa', 'poum', 'tilichiki', 'shchelyayur', 'nurota', 'causapscal', 'cockburn town', 'matay', 'frontignan', 'nagua', 'khandyga', 'namatanai', 'kidal', 'yatou', 'lima', 'betim', 'saint-francois', 'leningradskiy', 'kaohsiung', 'ojinaga', 'adre', 'kalmunai', 'jeremie', 'popondetta', 'san carlos', 'wenzhou', 'maniitsoq', 'helong', 'mandalgovi', 'agadez', 'ijaki', 'vardo', 'iisalmi', 'huntsville', 'jacareacanga', 'road town', 'kasama', 'kingston', 'san ramon', 'valley city', 'richards bay', 'mtsensk', 'aykhal', 'kasongo-lunda', 'cusset', 'port hedland', 'hambantota', 'dubai', 'sri aman', 'eyl', 'canico', 'mehamn', 'yaan', 'nizhniy kuranakh', 'margate', 'polyarnyye zori', 'ginir', 'lompoc', 'whitley bay', 'xacmaz']\n"
     ]
    }
   ],
   "source": [
    "print(cities_lists)"
   ]
  },
  {
   "cell_type": "markdown",
   "metadata": {},
   "source": [
    "### Perform API Calls\n",
    "* Perform a weather check on each city using a series of successive API calls.\n",
    "* Include a print log of each city as it'sbeing processed (with the city number and city name).\n"
   ]
  },
  {
   "cell_type": "code",
   "execution_count": 4,
   "metadata": {},
   "outputs": [
    {
     "data": {
      "text/plain": [
       "Index(['City_ID', 'City', 'Cloudiness', 'Country', 'Date', 'Humidity', 'Lat',\n",
       "       'Lng', 'Max Temp', 'Wind Speed'],\n",
       "      dtype='object')"
      ]
     },
     "execution_count": 4,
     "metadata": {},
     "output_type": "execute_result"
    }
   ],
   "source": [
    "cities_pd = pd.read_csv(\"02-Homework_06-Python-APIs_Instructions_output_data_cities.csv\")\n",
    "cities_pd.columns\n"
   ]
  },
  {
   "cell_type": "code",
   "execution_count": 5,
   "metadata": {},
   "outputs": [],
   "source": [
    "base_url = \"http://api.openweathermap.org/data/2.5/weather?\"\n",
    "units = 'imperial'\n",
    "\n",
    "#Build query url\n",
    "# api.openweathermap.org/data/2.5/weather?q=London,uk&APPID=2f77e934d464faaed5bc83bb33ab53ca\n",
    "query_url = f\"{base_url}appid={api_key}&units={units}&q=\"\n",
    "\n"
   ]
  },
  {
   "cell_type": "code",
   "execution_count": 6,
   "metadata": {
    "scrolled": false
   },
   "outputs": [
    {
     "name": "stdout",
     "output_type": "stream",
     "text": [
      "{\n",
      "    \"base\": \"stations\",\n",
      "    \"clouds\": {\n",
      "        \"all\": 100\n",
      "    },\n",
      "    \"cod\": 200,\n",
      "    \"coord\": {\n",
      "        \"lat\": 41.4635,\n",
      "        \"lon\": 48.806\n",
      "    },\n",
      "    \"dt\": 1616804294,\n",
      "    \"id\": 584717,\n",
      "    \"main\": {\n",
      "        \"feels_like\": 38.12,\n",
      "        \"grnd_level\": 1011,\n",
      "        \"humidity\": 95,\n",
      "        \"pressure\": 1017,\n",
      "        \"sea_level\": 1017,\n",
      "        \"temp\": 42.84,\n",
      "        \"temp_max\": 42.84,\n",
      "        \"temp_min\": 42.84\n",
      "    },\n",
      "    \"name\": \"Xa\\u00e7maz\",\n",
      "    \"sys\": {\n",
      "        \"country\": \"AZ\",\n",
      "        \"sunrise\": 1616812579,\n",
      "        \"sunset\": 1616857426\n",
      "    },\n",
      "    \"timezone\": 14400,\n",
      "    \"visibility\": 5125,\n",
      "    \"weather\": [\n",
      "        {\n",
      "            \"description\": \"overcast clouds\",\n",
      "            \"icon\": \"04n\",\n",
      "            \"id\": 804,\n",
      "            \"main\": \"Clouds\"\n",
      "        }\n",
      "    ],\n",
      "    \"wind\": {\n",
      "        \"deg\": 353,\n",
      "        \"gust\": 7,\n",
      "        \"speed\": 4.97\n",
      "    }\n",
      "}\n"
     ]
    }
   ],
   "source": [
    "response = requests.get(query_url + city).json()\n",
    "print(json.dumps(response, indent=4, sort_keys=True))"
   ]
  },
  {
   "cell_type": "code",
   "execution_count": 7,
   "metadata": {},
   "outputs": [
    {
     "name": "stdout",
     "output_type": "stream",
     "text": [
      "xacmaz\n"
     ]
    }
   ],
   "source": [
    "print(city)"
   ]
  },
  {
   "cell_type": "code",
   "execution_count": 8,
   "metadata": {
    "scrolled": true
   },
   "outputs": [
    {
     "name": "stdout",
     "output_type": "stream",
     "text": [
      "Initialising Data Retrieval\n",
      "----------------------------------\n",
      "Processing Record 1 | karaton\n",
      "Processing Record 2 | tiksi\n",
      "Processing Record 3 | harwich\n",
      "Processing Record 4 | samarai\n",
      "Processing Record 5 | busselton\n",
      "Processing Record 6 | norman wells\n",
      "Processing Record 7 | mataura\n",
      "Processing Record 8 | matara\n",
      "Processing Record 9 | yarmouth\n",
      "Processing Record 10 | cabo san lucas\n",
      "Processing Record 11 | hobart\n",
      "Processing Record 12 | vostok\n",
      "Processing Record 13 | punta arenas\n",
      "Processing Record 14 | srednekolymsk\n",
      "Processing Record 15 | puerto ayora\n",
      "Processing Record 16 | atambua\n",
      "Processing Record 17 | avera\n",
      "Processing Record 18 | severo-kurilsk\n",
      "Processing Record 19 | vaini\n",
      "City not found. Skipping......\n",
      "Processing Record 20 | sitka\n",
      "Processing Record 21 | new norfolk\n",
      "Processing Record 22 | bredasdorp\n",
      "Processing Record 23 | buluang\n",
      "Processing Record 24 | cape town\n",
      "Processing Record 25 | chokurdakh\n",
      "Processing Record 26 | lasa\n",
      "Processing Record 27 | jamestown\n",
      "Processing Record 28 | longyearbyen\n",
      "Processing Record 29 | ribeira grande\n",
      "Processing Record 30 | barrow\n",
      "Processing Record 31 | salisbury\n",
      "Processing Record 32 | samagaltay\n",
      "Processing Record 33 | iqaluit\n",
      "Processing Record 34 | hermanus\n",
      "Processing Record 35 | lebu\n",
      "Processing Record 36 | vestmannaeyjar\n",
      "Processing Record 37 | khatanga\n",
      "Processing Record 38 | cardston\n",
      "Processing Record 39 | carnarvon\n",
      "Processing Record 40 | venado tuerto\n",
      "Processing Record 41 | rikitea\n",
      "Processing Record 42 | ushuaia\n",
      "Processing Record 43 | hilo\n",
      "Processing Record 44 | castro\n",
      "Processing Record 45 | bengkulu\n",
      "Processing Record 46 | grand gaube\n",
      "Processing Record 47 | georgetown\n",
      "Processing Record 48 | kapaa\n",
      "Processing Record 49 | sarankhola\n",
      "Processing Record 50 | kitui\n",
      "Processing Record 51 | kendari\n",
      "Processing Record 52 | nouakchott\n",
      "Processing Record 53 | ulladulla\n",
      "Processing Record 54 | katsuura\n",
      "Processing Record 55 | nome\n",
      "Processing Record 56 | kaitangata\n",
      "Processing Record 57 | camacha\n",
      "Processing Record 58 | hithadhoo\n",
      "Processing Record 59 | avarua\n",
      "Processing Record 60 | owatonna\n",
      "Processing Record 61 | nalut\n",
      "Processing Record 62 | aklavik\n",
      "Processing Record 63 | deputatskiy\n",
      "Processing Record 64 | qaanaaq\n",
      "Processing Record 65 | san patricio\n",
      "Processing Record 66 | anloga\n",
      "Processing Record 67 | mar del plata\n",
      "Processing Record 68 | birao\n",
      "Processing Record 69 | lavrentiya\n",
      "Processing Record 70 | atuona\n",
      "City not found. Skipping......\n",
      "Processing Record 71 | sioux lookout\n",
      "Processing Record 72 | saint-pierre\n",
      "Processing Record 73 | ahipara\n",
      "City not found. Skipping......\n",
      "Processing Record 74 | yerbogachen\n",
      "Processing Record 75 | gwadar\n",
      "City not found. Skipping......\n",
      "Processing Record 76 | port elizabeth\n",
      "Processing Record 77 | aiken\n",
      "Processing Record 78 | arraial do cabo\n",
      "Processing Record 79 | eureka\n",
      "Processing Record 80 | shimoda\n",
      "Processing Record 81 | takoradi\n",
      "City not found. Skipping......\n",
      "Processing Record 82 | clyde river\n",
      "Processing Record 83 | maumere\n",
      "Processing Record 84 | kibala\n",
      "Processing Record 85 | bambous virieux\n",
      "Processing Record 86 | tuktoyaktuk\n",
      "Processing Record 87 | albany\n",
      "Processing Record 88 | foumban\n",
      "Processing Record 89 | touros\n",
      "Processing Record 90 | pachino\n",
      "Processing Record 91 | mugur-aksy\n",
      "Processing Record 92 | luderitz\n",
      "Processing Record 93 | aguimes\n",
      "Processing Record 94 | mandera\n",
      "Processing Record 95 | mbanza-ngungu\n",
      "Processing Record 96 | kharovsk\n",
      "Processing Record 97 | sawakin\n",
      "City not found. Skipping......\n",
      "Processing Record 98 | saint george\n",
      "Processing Record 99 | faya\n",
      "Processing Record 100 | port macquarie\n",
      "Processing Record 101 | port alfred\n",
      "Processing Record 102 | harper\n",
      "Processing Record 103 | bethel\n",
      "City not found. Skipping......\n",
      "Processing Record 104 | upata\n",
      "Processing Record 105 | east london\n",
      "Processing Record 106 | olga\n",
      "Processing Record 107 | kawalu\n",
      "Processing Record 108 | faanui\n",
      "Processing Record 109 | kodiak\n",
      "Processing Record 110 | cabedelo\n",
      "Processing Record 111 | bluff\n",
      "Processing Record 112 | nemuro\n",
      "Processing Record 113 | pisco\n",
      "Processing Record 114 | klaksvik\n",
      "City not found. Skipping......\n",
      "City not found. Skipping......\n",
      "Processing Record 115 | tessalit\n",
      "Processing Record 116 | semnan\n",
      "Processing Record 117 | zhigansk\n",
      "City not found. Skipping......\n",
      "Processing Record 118 | catamarca\n",
      "Processing Record 119 | san andres\n",
      "Processing Record 120 | hasaki\n",
      "Processing Record 121 | rapid city\n",
      "Processing Record 122 | saint-philippe\n",
      "Processing Record 123 | monte carmelo\n",
      "Processing Record 124 | thompson\n",
      "Processing Record 125 | fort-shevchenko\n",
      "Processing Record 126 | taltal\n",
      "Processing Record 127 | oistins\n",
      "City not found. Skipping......\n",
      "Processing Record 128 | victoria\n",
      "Processing Record 129 | tuatapere\n",
      "Processing Record 130 | mocuba\n",
      "Processing Record 131 | canto do buriti\n",
      "City not found. Skipping......\n",
      "Processing Record 132 | kyshtovka\n",
      "Processing Record 133 | ancud\n",
      "Processing Record 134 | airai\n",
      "Processing Record 135 | berlevag\n",
      "Processing Record 136 | itarema\n",
      "City not found. Skipping......\n",
      "Processing Record 137 | saskylakh\n",
      "Processing Record 138 | soyo\n",
      "Processing Record 139 | tierranueva\n",
      "Processing Record 140 | ludza\n",
      "Processing Record 141 | geraldton\n",
      "Processing Record 142 | college\n",
      "Processing Record 143 | ixtapa\n",
      "Processing Record 144 | yellowknife\n",
      "Processing Record 145 | kutum\n",
      "Processing Record 146 | rurrenabaque\n",
      "Processing Record 147 | timmins\n",
      "Processing Record 148 | coquimbo\n",
      "Processing Record 149 | nehe\n",
      "Processing Record 150 | nouadhibou\n",
      "Processing Record 151 | along\n",
      "Processing Record 152 | mount isa\n",
      "Processing Record 153 | nikolskoye\n",
      "Processing Record 154 | gat\n",
      "Processing Record 155 | sonamukhi\n",
      "Processing Record 156 | hovd\n",
      "Processing Record 157 | caravelas\n",
      "Processing Record 158 | turukhansk\n",
      "Processing Record 159 | ostrovnoy\n",
      "Processing Record 160 | bud\n",
      "Processing Record 161 | pendleton\n",
      "Processing Record 162 | souillac\n",
      "Processing Record 163 | dikson\n",
      "Processing Record 164 | champerico\n",
      "Processing Record 165 | belmonte\n",
      "Processing Record 166 | kuzovatovo\n",
      "Processing Record 167 | itatskiy\n",
      "Processing Record 168 | quthing\n",
      "Processing Record 169 | constitucion\n",
      "Processing Record 170 | butaritari\n",
      "Processing Record 171 | high level\n",
      "Processing Record 172 | sao filipe\n",
      "Processing Record 173 | port hardy\n",
      "Processing Record 174 | salalah\n",
      "Processing Record 175 | tartagal\n",
      "Processing Record 176 | vila velha\n",
      "Processing Record 177 | walvis bay\n",
      "Processing Record 178 | vanimo\n",
      "Processing Record 179 | gravdal\n",
      "Processing Record 180 | alofi\n",
      "Processing Record 181 | portland\n",
      "Processing Record 182 | alihe\n",
      "Processing Record 183 | kollam\n",
      "Processing Record 184 | campana\n",
      "Processing Record 185 | san juan de colon\n",
      "Processing Record 186 | shenjiamen\n",
      "Processing Record 187 | umba\n",
      "Processing Record 188 | marsh harbour\n",
      "Processing Record 189 | sabla\n",
      "City not found. Skipping......\n",
      "Processing Record 190 | kathmandu\n",
      "Processing Record 191 | vila franca do campo\n",
      "Processing Record 192 | harnosand\n",
      "Processing Record 193 | kavieng\n",
      "Processing Record 194 | saint-paul\n",
      "Processing Record 195 | sol-iletsk\n",
      "Processing Record 196 | adolfo lopez mateos\n",
      "Processing Record 197 | simeykyne\n",
      "Processing Record 198 | chuy\n",
      "Processing Record 199 | upernavik\n",
      "City not found. Skipping......\n",
      "Processing Record 200 | balikpapan\n",
      "Processing Record 201 | zwedru\n",
      "Processing Record 202 | namibe\n",
      "Processing Record 203 | tutoia\n",
      "City not found. Skipping......\n",
      "Processing Record 204 | quijingue\n",
      "Processing Record 205 | guerrero negro\n",
      "Processing Record 206 | sangar\n",
      "Processing Record 207 | nazarovo\n",
      "Processing Record 208 | grindavik\n",
      "Processing Record 209 | gilgit\n",
      "City not found. Skipping......\n",
      "Processing Record 210 | teknaf\n",
      "Processing Record 211 | broome\n",
      "Processing Record 212 | fairbanks\n",
      "Processing Record 213 | mareeba\n",
      "Processing Record 214 | palencia\n",
      "Processing Record 215 | potsdam\n",
      "Processing Record 216 | visnes\n",
      "Processing Record 217 | tasiilaq\n",
      "Processing Record 218 | sisimiut\n",
      "Processing Record 219 | nassau\n",
      "Processing Record 220 | aksarka\n",
      "Processing Record 221 | sayyan\n",
      "Processing Record 222 | kapit\n",
      "Processing Record 223 | novaya mayna\n",
      "Processing Record 224 | talnakh\n",
      "Processing Record 225 | aguadas\n",
      "Processing Record 226 | hosakote\n",
      "Processing Record 227 | imbituba\n",
      "Processing Record 228 | aden\n",
      "Processing Record 229 | emerald\n",
      "Processing Record 230 | torbay\n",
      "Processing Record 231 | labrea\n",
      "Processing Record 232 | tautira\n",
      "Processing Record 233 | bubaque\n"
     ]
    },
    {
     "name": "stdout",
     "output_type": "stream",
     "text": [
      "Processing Record 234 | ola\n",
      "Processing Record 235 | pangnirtung\n",
      "Processing Record 236 | kupang\n",
      "Processing Record 237 | jiaojiang\n",
      "Processing Record 238 | mustasaari\n",
      "Processing Record 239 | alice springs\n",
      "Processing Record 240 | havre-saint-pierre\n",
      "Processing Record 241 | byron bay\n",
      "Processing Record 242 | quatre cocos\n",
      "Processing Record 243 | mount gambier\n",
      "Processing Record 244 | vuktyl\n",
      "Processing Record 245 | ipanguacu\n",
      "City not found. Skipping......\n",
      "Processing Record 246 | magway\n",
      "Processing Record 247 | pevek\n",
      "City not found. Skipping......\n",
      "Processing Record 248 | alindao\n",
      "Processing Record 249 | provideniya\n",
      "Processing Record 250 | coahuayana\n",
      "Processing Record 251 | itumba\n",
      "Processing Record 252 | lagoa\n",
      "Processing Record 253 | osoyoos\n",
      "Processing Record 254 | sukumo\n",
      "Processing Record 255 | san quintin\n",
      "Processing Record 256 | sorland\n",
      "Processing Record 257 | kruisfontein\n",
      "Processing Record 258 | gerash\n",
      "Processing Record 259 | ranong\n",
      "Processing Record 260 | xichang\n",
      "Processing Record 261 | samana\n",
      "Processing Record 262 | auly\n",
      "Processing Record 263 | barvinkove\n",
      "Processing Record 264 | dzhebariki-khaya\n",
      "Processing Record 265 | aksu\n",
      "Processing Record 266 | saint anthony\n",
      "Processing Record 267 | terra santa\n",
      "Processing Record 268 | tadine\n",
      "Processing Record 269 | zhanaozen\n",
      "Processing Record 270 | kovdor\n",
      "Processing Record 271 | kemijarvi\n",
      "Processing Record 272 | rawson\n",
      "Processing Record 273 | sinnamary\n",
      "Processing Record 274 | vangaindrano\n",
      "Processing Record 275 | fatezh\n",
      "Processing Record 276 | bloomington\n",
      "Processing Record 277 | camana\n",
      "Processing Record 278 | anadyr\n",
      "Processing Record 279 | noumea\n",
      "Processing Record 280 | manzhouli\n",
      "Processing Record 281 | iwaki\n",
      "Processing Record 282 | mtambile\n",
      "Processing Record 283 | fortuna\n",
      "Processing Record 284 | warman\n",
      "Processing Record 285 | north myrtle beach\n",
      "Processing Record 286 | cherskiy\n",
      "Processing Record 287 | tairua\n",
      "Processing Record 288 | basco\n",
      "Processing Record 289 | kuvandyk\n",
      "Processing Record 290 | marawi\n",
      "Processing Record 291 | cidreira\n",
      "Processing Record 292 | volnovakha\n",
      "Processing Record 293 | xilopolis\n",
      "Processing Record 294 | dunn\n",
      "Processing Record 295 | moerai\n",
      "Processing Record 296 | jinxiang\n",
      "Processing Record 297 | copiapo\n",
      "Processing Record 298 | balkhash\n",
      "Processing Record 299 | petropavlovsk-kamchatskiy\n",
      "Processing Record 300 | qostanay\n",
      "City not found. Skipping......\n",
      "Processing Record 301 | laguna\n",
      "Processing Record 302 | narsaq\n",
      "Processing Record 303 | turan\n",
      "Processing Record 304 | boa vista\n",
      "Processing Record 305 | saldanha\n",
      "Processing Record 306 | padang\n",
      "City not found. Skipping......\n",
      "Processing Record 307 | benguela\n",
      "Processing Record 308 | amapa\n",
      "Processing Record 309 | manono\n",
      "Processing Record 310 | paraiso\n",
      "Processing Record 311 | ust-nera\n",
      "Processing Record 312 | saquarema\n",
      "Processing Record 313 | tuytepa\n",
      "Processing Record 314 | suntar\n",
      "Processing Record 315 | ballina\n",
      "Processing Record 316 | inuvik\n",
      "Processing Record 317 | gweta\n",
      "Processing Record 318 | arlit\n",
      "Processing Record 319 | merauke\n",
      "Processing Record 320 | fayaoue\n",
      "Processing Record 321 | belaya gora\n",
      "Processing Record 322 | ukiah\n",
      "Processing Record 323 | bara\n",
      "Processing Record 324 | mednogorsk\n",
      "Processing Record 325 | ust-tsilma\n",
      "Processing Record 326 | najran\n",
      "Processing Record 327 | yantal\n",
      "Processing Record 328 | te anau\n",
      "Processing Record 329 | kropotkin\n",
      "Processing Record 330 | meadow lake\n",
      "Processing Record 331 | bathsheba\n",
      "City not found. Skipping......\n",
      "Processing Record 332 | jiehu\n",
      "Processing Record 333 | vao\n",
      "Processing Record 334 | sola\n",
      "Processing Record 335 | pimentel\n",
      "Processing Record 336 | lorengau\n",
      "Processing Record 337 | acajutla\n",
      "Processing Record 338 | kavaratti\n",
      "Processing Record 339 | mitu\n",
      "Processing Record 340 | alta floresta\n",
      "Processing Record 341 | umm kaddadah\n",
      "Processing Record 342 | mecca\n",
      "Processing Record 343 | zharkovskiy\n",
      "Processing Record 344 | loikaw\n",
      "Processing Record 345 | kuala terengganu\n",
      "Processing Record 346 | salta\n",
      "Processing Record 347 | port lincoln\n",
      "Processing Record 348 | lumeje\n",
      "Processing Record 349 | posse\n",
      "Processing Record 350 | dwarka\n",
      "Processing Record 351 | ninghai\n",
      "Processing Record 352 | muros\n",
      "Processing Record 353 | hualmay\n",
      "Processing Record 354 | ponta do sol\n",
      "Processing Record 355 | mahebourg\n",
      "Processing Record 356 | makarov\n",
      "Processing Record 357 | kano\n",
      "Processing Record 358 | hailey\n",
      "Processing Record 359 | potiskum\n",
      "Processing Record 360 | ucluelet\n",
      "Processing Record 361 | cap malheureux\n",
      "Processing Record 362 | viedma\n",
      "Processing Record 363 | dingle\n",
      "Processing Record 364 | beisfjord\n",
      "Processing Record 365 | roebourne\n",
      "Processing Record 366 | kitimat\n",
      "Processing Record 367 | saint-georges\n",
      "Processing Record 368 | muravlenko\n",
      "City not found. Skipping......\n",
      "Processing Record 369 | makakilo city\n",
      "Processing Record 370 | oranjemund\n",
      "Processing Record 371 | ilulissat\n",
      "Processing Record 372 | leiyang\n",
      "Processing Record 373 | komsomolskiy\n",
      "Processing Record 374 | dauriya\n",
      "Processing Record 375 | roma\n",
      "Processing Record 376 | san felipe\n",
      "Processing Record 377 | pudozh\n",
      "Processing Record 378 | toropets\n",
      "Processing Record 379 | jibuti\n",
      "Processing Record 380 | verkhoyansk\n",
      "Processing Record 381 | saint-felicien\n",
      "Processing Record 382 | kostomuksha\n",
      "Processing Record 383 | fevik\n",
      "Processing Record 384 | nanortalik\n",
      "Processing Record 385 | marathon\n",
      "Processing Record 386 | novo aripuana\n",
      "Processing Record 387 | wanning\n",
      "Processing Record 388 | naze\n",
      "Processing Record 389 | itaituba\n",
      "Processing Record 390 | navalmoral de la mata\n",
      "Processing Record 391 | jiuquan\n",
      "Processing Record 392 | bosobolo\n",
      "Processing Record 393 | doha\n",
      "Processing Record 394 | vinukonda\n",
      "City not found. Skipping......\n",
      "Processing Record 395 | killybegs\n",
      "City not found. Skipping......\n",
      "Processing Record 396 | pouebo\n",
      "Processing Record 397 | galesong\n",
      "City not found. Skipping......\n",
      "Processing Record 398 | puerto quijarro\n",
      "Processing Record 399 | casper\n",
      "Processing Record 400 | waddan\n",
      "Processing Record 401 | palanga\n",
      "Processing Record 402 | porbandar\n",
      "City not found. Skipping......\n",
      "Processing Record 403 | leticia\n",
      "City not found. Skipping......\n",
      "Processing Record 404 | qandala\n",
      "Processing Record 405 | lewiston\n",
      "Processing Record 406 | hofn\n",
      "City not found. Skipping......\n",
      "Processing Record 407 | north bay\n",
      "Processing Record 408 | saint-augustin\n",
      "Processing Record 409 | arteaga\n",
      "Processing Record 410 | salym\n",
      "Processing Record 411 | traverse city\n",
      "Processing Record 412 | jablah\n",
      "Processing Record 413 | tungor\n",
      "Processing Record 414 | skjervoy\n",
      "Processing Record 415 | mendi\n",
      "Processing Record 416 | mackay\n",
      "Processing Record 417 | zabid\n",
      "Processing Record 418 | nuuk\n",
      "Processing Record 419 | dungarpur\n",
      "Processing Record 420 | tiarei\n",
      "Processing Record 421 | zhuhai\n",
      "Processing Record 422 | panzhihua\n",
      "Processing Record 423 | nishihara\n",
      "Processing Record 424 | mpulungu\n",
      "City not found. Skipping......\n",
      "Processing Record 425 | sfantu gheorghe\n",
      "Processing Record 426 | atar\n",
      "Processing Record 427 | heidelberg\n",
      "Processing Record 428 | sur\n",
      "Processing Record 429 | san vicente\n",
      "Processing Record 430 | sao jose da coroa grande\n",
      "Processing Record 431 | melfi\n",
      "City not found. Skipping......\n",
      "City not found. Skipping......\n",
      "Processing Record 432 | kirakira\n",
      "Processing Record 433 | boguchany\n",
      "Processing Record 434 | hami\n",
      "City not found. Skipping......\n",
      "Processing Record 435 | hirara\n",
      "Processing Record 436 | shelburne\n",
      "Processing Record 437 | westerland\n",
      "Processing Record 438 | baneh\n",
      "City not found. Skipping......\n",
      "Processing Record 439 | kismayo\n",
      "Processing Record 440 | wates\n",
      "Processing Record 441 | ovalle\n",
      "Processing Record 442 | quelimane\n",
      "Processing Record 443 | manaure\n",
      "Processing Record 444 | zambezi\n",
      "Processing Record 445 | panama city\n",
      "Processing Record 446 | luau\n",
      "Processing Record 447 | mitsamiouli\n",
      "Processing Record 448 | karpathos\n",
      "Processing Record 449 | kurumkan\n",
      "Processing Record 450 | berberati\n",
      "Processing Record 451 | rudnogorsk\n",
      "Processing Record 452 | brainerd\n",
      "Processing Record 453 | roald\n",
      "Processing Record 454 | bom jardim\n",
      "Processing Record 455 | arman\n",
      "Processing Record 456 | agadir\n",
      "Processing Record 457 | pitea\n",
      "Processing Record 458 | santa lucia\n",
      "Processing Record 459 | divo\n",
      "Processing Record 460 | adrar\n",
      "Processing Record 461 | jalu\n",
      "Processing Record 462 | pingliang\n",
      "Processing Record 463 | ahuimanu\n",
      "Processing Record 464 | esperance\n",
      "Processing Record 465 | rocky mountain house\n"
     ]
    },
    {
     "name": "stdout",
     "output_type": "stream",
     "text": [
      "Processing Record 466 | schwalmtal\n",
      "Processing Record 467 | locri\n",
      "Processing Record 468 | pedernales\n",
      "Processing Record 469 | treinta y tres\n",
      "Processing Record 470 | eydhafushi\n",
      "City not found. Skipping......\n",
      "Processing Record 471 | aitape\n",
      "Processing Record 472 | brikama\n",
      "Processing Record 473 | lyuban\n",
      "City not found. Skipping......\n",
      "City not found. Skipping......\n",
      "Processing Record 474 | cabra\n",
      "Processing Record 475 | skegness\n",
      "Processing Record 476 | beringovskiy\n",
      "Processing Record 477 | hammerfest\n",
      "Processing Record 478 | turayf\n",
      "Processing Record 479 | suarez\n",
      "Processing Record 480 | kudahuvadhoo\n",
      "Processing Record 481 | ilebo\n",
      "Processing Record 482 | usinsk\n",
      "Processing Record 483 | sault sainte marie\n",
      "Processing Record 484 | west bay\n",
      "Processing Record 485 | samastipur\n",
      "Processing Record 486 | pirovskoye\n",
      "Processing Record 487 | la libertad\n",
      "Processing Record 488 | maceio\n",
      "Processing Record 489 | biloela\n",
      "Processing Record 490 | san borja\n",
      "Processing Record 491 | lucapa\n",
      "Processing Record 492 | poum\n",
      "Processing Record 493 | tilichiki\n",
      "City not found. Skipping......\n",
      "Processing Record 494 | nurota\n",
      "Processing Record 495 | causapscal\n",
      "Processing Record 496 | cockburn town\n",
      "Processing Record 497 | matay\n",
      "Processing Record 498 | frontignan\n",
      "Processing Record 499 | nagua\n",
      "Processing Record 500 | khandyga\n",
      "Processing Record 501 | namatanai\n",
      "Processing Record 502 | kidal\n",
      "Processing Record 503 | yatou\n",
      "Processing Record 504 | lima\n",
      "Processing Record 505 | betim\n",
      "Processing Record 506 | saint-francois\n",
      "Processing Record 507 | leningradskiy\n",
      "Processing Record 508 | kaohsiung\n",
      "Processing Record 509 | ojinaga\n",
      "Processing Record 510 | adre\n",
      "Processing Record 511 | kalmunai\n",
      "Processing Record 512 | jeremie\n",
      "Processing Record 513 | popondetta\n",
      "Processing Record 514 | san carlos\n",
      "Processing Record 515 | wenzhou\n",
      "Processing Record 516 | maniitsoq\n",
      "Processing Record 517 | helong\n",
      "Processing Record 518 | mandalgovi\n",
      "Processing Record 519 | agadez\n",
      "City not found. Skipping......\n",
      "Processing Record 520 | vardo\n",
      "Processing Record 521 | iisalmi\n",
      "Processing Record 522 | huntsville\n",
      "Processing Record 523 | jacareacanga\n",
      "Processing Record 524 | road town\n",
      "Processing Record 525 | kasama\n",
      "Processing Record 526 | kingston\n",
      "Processing Record 527 | san ramon\n",
      "Processing Record 528 | valley city\n",
      "Processing Record 529 | richards bay\n",
      "Processing Record 530 | mtsensk\n",
      "Processing Record 531 | aykhal\n",
      "Processing Record 532 | kasongo-lunda\n",
      "Processing Record 533 | cusset\n",
      "Processing Record 534 | port hedland\n",
      "Processing Record 535 | hambantota\n",
      "Processing Record 536 | dubai\n",
      "Processing Record 537 | sri aman\n",
      "Processing Record 538 | eyl\n",
      "Processing Record 539 | canico\n",
      "Processing Record 540 | mehamn\n",
      "Processing Record 541 | yaan\n",
      "Processing Record 542 | nizhniy kuranakh\n",
      "Processing Record 543 | margate\n",
      "Processing Record 544 | polyarnyye zori\n",
      "Processing Record 545 | ginir\n",
      "Processing Record 546 | lompoc\n",
      "Processing Record 547 | whitley bay\n",
      "Processing Record 548 | xacmaz\n",
      "-----------------------------\n",
      "---Data Retrieval Complete---\n",
      "-----------------------------\n"
     ]
    }
   ],
   "source": [
    "base_url = \"http://api.openweathermap.org/data/2.5/weather?\"\n",
    "units = 'imperial'\n",
    "\n",
    "#Build query url\n",
    "# api.openweathermap.org/data/2.5/weather?q=London,uk&APPID=2f77e934d464faaed5bc83bb33ab53ca\n",
    "query_url = f\"{base_url}appid={api_key}&units={units}&q=\"\n",
    "\n",
    "#Set up lists parameters \n",
    "\n",
    "cities = []\n",
    "countries = []\n",
    "lat = []\n",
    "lon = []\n",
    "cloudiness = []\n",
    "max_temp = []\n",
    "humidity = []\n",
    "wind_speed = []\n",
    "date = []\n",
    "\n",
    "#Loop through lists and perform request on each dataset\n",
    "\n",
    "print(f\"Initialising Data Retrieval\")\n",
    "print(f\"----------------------------------\")\n",
    "\n",
    "#Create Counters\n",
    "i = 1\n",
    "#record_count = 1\n",
    "#set_count = 1\n",
    "for city in cities_lists:\n",
    "    response = requests.get(query_url + city).json()\n",
    "    \n",
    "    try:\n",
    "        cities.append(response['name'])\n",
    "        countries.append(response['sys']['country'])\n",
    "        lat.append(response['coord']['lat'])\n",
    "        lon.append(response['coord']['lon'])\n",
    "        cloudiness.append(response['clouds']['all'])\n",
    "        max_temp.append(response['main']['temp_max'])\n",
    "        humidity.append(response['main']['humidity'])\n",
    "        wind_speed.append(response['wind']['speed'])\n",
    "        date.append(response['dt'])\n",
    "        \n",
    "        print(f\"Processing Record {i} | {city}\")\n",
    "        i += 1\n",
    "\n",
    "    except:\n",
    "        print(F\"City not found. Skipping......\")\n",
    "\n",
    "        continue\n",
    "\n",
    "        \n",
    "print(f\"-----------------------------\")\n",
    "print(f\"---Data Retrieval Complete---\")\n",
    "print(f\"-----------------------------\")\n",
    "        \n",
    "\n",
    "\n"
   ]
  },
  {
   "cell_type": "markdown",
   "metadata": {},
   "source": [
    "### Convert Raw Data to DataFrame\n",
    "* Export the city data into a .csv.\n",
    "* Display the DataFrame"
   ]
  },
  {
   "cell_type": "code",
   "execution_count": 13,
   "metadata": {
    "scrolled": false
   },
   "outputs": [
    {
     "data": {
      "text/html": [
       "<div>\n",
       "<style scoped>\n",
       "    .dataframe tbody tr th:only-of-type {\n",
       "        vertical-align: middle;\n",
       "    }\n",
       "\n",
       "    .dataframe tbody tr th {\n",
       "        vertical-align: top;\n",
       "    }\n",
       "\n",
       "    .dataframe thead th {\n",
       "        text-align: right;\n",
       "    }\n",
       "</style>\n",
       "<table border=\"1\" class=\"dataframe\">\n",
       "  <thead>\n",
       "    <tr style=\"text-align: right;\">\n",
       "      <th></th>\n",
       "      <th>Date</th>\n",
       "      <th>City</th>\n",
       "      <th>Country</th>\n",
       "      <th>Longitude</th>\n",
       "      <th>Latitude</th>\n",
       "      <th>Cloudiness</th>\n",
       "      <th>Max Temp</th>\n",
       "      <th>Humidity</th>\n",
       "      <th>Wind Speed</th>\n",
       "    </tr>\n",
       "  </thead>\n",
       "  <tbody>\n",
       "    <tr>\n",
       "      <th>0</th>\n",
       "      <td>1616804300</td>\n",
       "      <td>Karaton</td>\n",
       "      <td>ID</td>\n",
       "      <td>106.1045</td>\n",
       "      <td>-6.3424</td>\n",
       "      <td>20</td>\n",
       "      <td>82.99</td>\n",
       "      <td>83</td>\n",
       "      <td>3.44</td>\n",
       "    </tr>\n",
       "    <tr>\n",
       "      <th>1</th>\n",
       "      <td>1616804300</td>\n",
       "      <td>Tiksi</td>\n",
       "      <td>RU</td>\n",
       "      <td>128.8694</td>\n",
       "      <td>71.6872</td>\n",
       "      <td>100</td>\n",
       "      <td>10.83</td>\n",
       "      <td>91</td>\n",
       "      <td>6.51</td>\n",
       "    </tr>\n",
       "    <tr>\n",
       "      <th>2</th>\n",
       "      <td>1616804301</td>\n",
       "      <td>Harwich</td>\n",
       "      <td>GB</td>\n",
       "      <td>1.2844</td>\n",
       "      <td>51.9419</td>\n",
       "      <td>56</td>\n",
       "      <td>42.01</td>\n",
       "      <td>71</td>\n",
       "      <td>10.00</td>\n",
       "    </tr>\n",
       "    <tr>\n",
       "      <th>3</th>\n",
       "      <td>1616804302</td>\n",
       "      <td>Samarai</td>\n",
       "      <td>PG</td>\n",
       "      <td>150.6667</td>\n",
       "      <td>-10.6167</td>\n",
       "      <td>93</td>\n",
       "      <td>83.80</td>\n",
       "      <td>75</td>\n",
       "      <td>11.34</td>\n",
       "    </tr>\n",
       "    <tr>\n",
       "      <th>4</th>\n",
       "      <td>1616804302</td>\n",
       "      <td>Busselton</td>\n",
       "      <td>AU</td>\n",
       "      <td>115.3333</td>\n",
       "      <td>-33.6500</td>\n",
       "      <td>69</td>\n",
       "      <td>57.00</td>\n",
       "      <td>87</td>\n",
       "      <td>5.50</td>\n",
       "    </tr>\n",
       "    <tr>\n",
       "      <th>...</th>\n",
       "      <td>...</td>\n",
       "      <td>...</td>\n",
       "      <td>...</td>\n",
       "      <td>...</td>\n",
       "      <td>...</td>\n",
       "      <td>...</td>\n",
       "      <td>...</td>\n",
       "      <td>...</td>\n",
       "      <td>...</td>\n",
       "    </tr>\n",
       "    <tr>\n",
       "      <th>543</th>\n",
       "      <td>1616804545</td>\n",
       "      <td>Polyarnyye Zori</td>\n",
       "      <td>RU</td>\n",
       "      <td>32.4981</td>\n",
       "      <td>67.3661</td>\n",
       "      <td>67</td>\n",
       "      <td>28.99</td>\n",
       "      <td>96</td>\n",
       "      <td>3.18</td>\n",
       "    </tr>\n",
       "    <tr>\n",
       "      <th>544</th>\n",
       "      <td>1616804545</td>\n",
       "      <td>Ginir</td>\n",
       "      <td>ET</td>\n",
       "      <td>40.7000</td>\n",
       "      <td>7.1333</td>\n",
       "      <td>70</td>\n",
       "      <td>58.21</td>\n",
       "      <td>30</td>\n",
       "      <td>4.70</td>\n",
       "    </tr>\n",
       "    <tr>\n",
       "      <th>545</th>\n",
       "      <td>1616804546</td>\n",
       "      <td>Lompoc</td>\n",
       "      <td>US</td>\n",
       "      <td>-120.4579</td>\n",
       "      <td>34.6391</td>\n",
       "      <td>20</td>\n",
       "      <td>61.00</td>\n",
       "      <td>72</td>\n",
       "      <td>14.97</td>\n",
       "    </tr>\n",
       "    <tr>\n",
       "      <th>546</th>\n",
       "      <td>1616804546</td>\n",
       "      <td>Whitley Bay</td>\n",
       "      <td>GB</td>\n",
       "      <td>-1.4471</td>\n",
       "      <td>55.0397</td>\n",
       "      <td>90</td>\n",
       "      <td>39.20</td>\n",
       "      <td>70</td>\n",
       "      <td>18.41</td>\n",
       "    </tr>\n",
       "    <tr>\n",
       "      <th>547</th>\n",
       "      <td>1616804294</td>\n",
       "      <td>Xaçmaz</td>\n",
       "      <td>AZ</td>\n",
       "      <td>48.8060</td>\n",
       "      <td>41.4635</td>\n",
       "      <td>100</td>\n",
       "      <td>42.84</td>\n",
       "      <td>95</td>\n",
       "      <td>4.97</td>\n",
       "    </tr>\n",
       "  </tbody>\n",
       "</table>\n",
       "<p>548 rows × 9 columns</p>\n",
       "</div>"
      ],
      "text/plain": [
       "           Date             City Country  Longitude  Latitude  Cloudiness  \\\n",
       "0    1616804300          Karaton      ID   106.1045   -6.3424          20   \n",
       "1    1616804300            Tiksi      RU   128.8694   71.6872         100   \n",
       "2    1616804301          Harwich      GB     1.2844   51.9419          56   \n",
       "3    1616804302          Samarai      PG   150.6667  -10.6167          93   \n",
       "4    1616804302        Busselton      AU   115.3333  -33.6500          69   \n",
       "..          ...              ...     ...        ...       ...         ...   \n",
       "543  1616804545  Polyarnyye Zori      RU    32.4981   67.3661          67   \n",
       "544  1616804545            Ginir      ET    40.7000    7.1333          70   \n",
       "545  1616804546           Lompoc      US  -120.4579   34.6391          20   \n",
       "546  1616804546      Whitley Bay      GB    -1.4471   55.0397          90   \n",
       "547  1616804294           Xaçmaz      AZ    48.8060   41.4635         100   \n",
       "\n",
       "     Max Temp  Humidity  Wind Speed  \n",
       "0       82.99        83        3.44  \n",
       "1       10.83        91        6.51  \n",
       "2       42.01        71       10.00  \n",
       "3       83.80        75       11.34  \n",
       "4       57.00        87        5.50  \n",
       "..        ...       ...         ...  \n",
       "543     28.99        96        3.18  \n",
       "544     58.21        30        4.70  \n",
       "545     61.00        72       14.97  \n",
       "546     39.20        70       18.41  \n",
       "547     42.84        95        4.97  \n",
       "\n",
       "[548 rows x 9 columns]"
      ]
     },
     "execution_count": 13,
     "metadata": {},
     "output_type": "execute_result"
    }
   ],
   "source": [
    "weather_df = {\"Date\": date, \"City\": cities, \"Country\": countries, \"Longitude\": lon, \"Latitude\": lat, \"Cloudiness\": cloudiness, \"Max Temp\": max_temp, \"Humidity\": humidity, \"Wind Speed\": wind_speed }\n",
    "weather_data = pd.DataFrame(weather_df)\n",
    "weather_data"
   ]
  },
  {
   "cell_type": "code",
   "execution_count": 14,
   "metadata": {},
   "outputs": [
    {
     "data": {
      "text/plain": [
       "Date          548\n",
       "City          548\n",
       "Country       548\n",
       "Longitude     548\n",
       "Latitude      548\n",
       "Cloudiness    548\n",
       "Max Temp      548\n",
       "Humidity      548\n",
       "Wind Speed    548\n",
       "dtype: int64"
      ]
     },
     "execution_count": 14,
     "metadata": {},
     "output_type": "execute_result"
    }
   ],
   "source": [
    "weather_data.count()"
   ]
  },
  {
   "cell_type": "code",
   "execution_count": 15,
   "metadata": {},
   "outputs": [],
   "source": [
    "#save df as a csv\n",
    "\n",
    "weather_data.to_csv('weather_data.csv')"
   ]
  },
  {
   "cell_type": "code",
   "execution_count": 16,
   "metadata": {},
   "outputs": [
    {
     "data": {
      "text/html": [
       "<div>\n",
       "<style scoped>\n",
       "    .dataframe tbody tr th:only-of-type {\n",
       "        vertical-align: middle;\n",
       "    }\n",
       "\n",
       "    .dataframe tbody tr th {\n",
       "        vertical-align: top;\n",
       "    }\n",
       "\n",
       "    .dataframe thead th {\n",
       "        text-align: right;\n",
       "    }\n",
       "</style>\n",
       "<table border=\"1\" class=\"dataframe\">\n",
       "  <thead>\n",
       "    <tr style=\"text-align: right;\">\n",
       "      <th></th>\n",
       "      <th>Date</th>\n",
       "      <th>City</th>\n",
       "      <th>Country</th>\n",
       "      <th>Longitude</th>\n",
       "      <th>Latitude</th>\n",
       "      <th>Cloudiness</th>\n",
       "      <th>Max Temp</th>\n",
       "      <th>Humidity</th>\n",
       "      <th>Wind Speed</th>\n",
       "    </tr>\n",
       "  </thead>\n",
       "  <tbody>\n",
       "    <tr>\n",
       "      <th>0</th>\n",
       "      <td>1616804300</td>\n",
       "      <td>Karaton</td>\n",
       "      <td>ID</td>\n",
       "      <td>106.1045</td>\n",
       "      <td>-6.3424</td>\n",
       "      <td>20</td>\n",
       "      <td>82.99</td>\n",
       "      <td>83</td>\n",
       "      <td>3.44</td>\n",
       "    </tr>\n",
       "    <tr>\n",
       "      <th>1</th>\n",
       "      <td>1616804300</td>\n",
       "      <td>Tiksi</td>\n",
       "      <td>RU</td>\n",
       "      <td>128.8694</td>\n",
       "      <td>71.6872</td>\n",
       "      <td>100</td>\n",
       "      <td>10.83</td>\n",
       "      <td>91</td>\n",
       "      <td>6.51</td>\n",
       "    </tr>\n",
       "    <tr>\n",
       "      <th>2</th>\n",
       "      <td>1616804301</td>\n",
       "      <td>Harwich</td>\n",
       "      <td>GB</td>\n",
       "      <td>1.2844</td>\n",
       "      <td>51.9419</td>\n",
       "      <td>56</td>\n",
       "      <td>42.01</td>\n",
       "      <td>71</td>\n",
       "      <td>10.00</td>\n",
       "    </tr>\n",
       "    <tr>\n",
       "      <th>3</th>\n",
       "      <td>1616804302</td>\n",
       "      <td>Samarai</td>\n",
       "      <td>PG</td>\n",
       "      <td>150.6667</td>\n",
       "      <td>-10.6167</td>\n",
       "      <td>93</td>\n",
       "      <td>83.80</td>\n",
       "      <td>75</td>\n",
       "      <td>11.34</td>\n",
       "    </tr>\n",
       "    <tr>\n",
       "      <th>4</th>\n",
       "      <td>1616804302</td>\n",
       "      <td>Busselton</td>\n",
       "      <td>AU</td>\n",
       "      <td>115.3333</td>\n",
       "      <td>-33.6500</td>\n",
       "      <td>69</td>\n",
       "      <td>57.00</td>\n",
       "      <td>87</td>\n",
       "      <td>5.50</td>\n",
       "    </tr>\n",
       "  </tbody>\n",
       "</table>\n",
       "</div>"
      ],
      "text/plain": [
       "         Date       City Country  Longitude  Latitude  Cloudiness  Max Temp  \\\n",
       "0  1616804300    Karaton      ID   106.1045   -6.3424          20     82.99   \n",
       "1  1616804300      Tiksi      RU   128.8694   71.6872         100     10.83   \n",
       "2  1616804301    Harwich      GB     1.2844   51.9419          56     42.01   \n",
       "3  1616804302    Samarai      PG   150.6667  -10.6167          93     83.80   \n",
       "4  1616804302  Busselton      AU   115.3333  -33.6500          69     57.00   \n",
       "\n",
       "   Humidity  Wind Speed  \n",
       "0        83        3.44  \n",
       "1        91        6.51  \n",
       "2        71       10.00  \n",
       "3        75       11.34  \n",
       "4        87        5.50  "
      ]
     },
     "execution_count": 16,
     "metadata": {},
     "output_type": "execute_result"
    }
   ],
   "source": [
    "#check csv dataframe\n",
    "\n",
    "weather_data.head()"
   ]
  },
  {
   "cell_type": "code",
   "execution_count": 17,
   "metadata": {},
   "outputs": [
    {
     "data": {
      "text/plain": [
       "Index(['Date', 'City', 'Country', 'Longitude', 'Latitude', 'Cloudiness',\n",
       "       'Max Temp', 'Humidity', 'Wind Speed'],\n",
       "      dtype='object')"
      ]
     },
     "execution_count": 17,
     "metadata": {},
     "output_type": "execute_result"
    }
   ],
   "source": [
    "weather_data.columns\n"
   ]
  },
  {
   "cell_type": "markdown",
   "metadata": {},
   "source": [
    "## Inspect the data and remove the cities where the humidity > 100%.\n",
    "----\n",
    "Skip this step if there are no cities that have humidity > 100%. "
   ]
  },
  {
   "cell_type": "code",
   "execution_count": 18,
   "metadata": {},
   "outputs": [
    {
     "data": {
      "text/html": [
       "<div>\n",
       "<style scoped>\n",
       "    .dataframe tbody tr th:only-of-type {\n",
       "        vertical-align: middle;\n",
       "    }\n",
       "\n",
       "    .dataframe tbody tr th {\n",
       "        vertical-align: top;\n",
       "    }\n",
       "\n",
       "    .dataframe thead th {\n",
       "        text-align: right;\n",
       "    }\n",
       "</style>\n",
       "<table border=\"1\" class=\"dataframe\">\n",
       "  <thead>\n",
       "    <tr style=\"text-align: right;\">\n",
       "      <th></th>\n",
       "      <th>Date</th>\n",
       "      <th>Longitude</th>\n",
       "      <th>Latitude</th>\n",
       "      <th>Cloudiness</th>\n",
       "      <th>Max Temp</th>\n",
       "      <th>Humidity</th>\n",
       "      <th>Wind Speed</th>\n",
       "    </tr>\n",
       "  </thead>\n",
       "  <tbody>\n",
       "    <tr>\n",
       "      <th>count</th>\n",
       "      <td>5.480000e+02</td>\n",
       "      <td>548.000000</td>\n",
       "      <td>548.000000</td>\n",
       "      <td>548.000000</td>\n",
       "      <td>548.000000</td>\n",
       "      <td>548.000000</td>\n",
       "      <td>548.000000</td>\n",
       "    </tr>\n",
       "    <tr>\n",
       "      <th>mean</th>\n",
       "      <td>1.616804e+09</td>\n",
       "      <td>17.190250</td>\n",
       "      <td>21.046384</td>\n",
       "      <td>53.364964</td>\n",
       "      <td>55.393595</td>\n",
       "      <td>72.660584</td>\n",
       "      <td>7.803504</td>\n",
       "    </tr>\n",
       "    <tr>\n",
       "      <th>std</th>\n",
       "      <td>8.284110e+01</td>\n",
       "      <td>89.260410</td>\n",
       "      <td>32.882065</td>\n",
       "      <td>38.360767</td>\n",
       "      <td>25.681463</td>\n",
       "      <td>21.522611</td>\n",
       "      <td>5.644086</td>\n",
       "    </tr>\n",
       "    <tr>\n",
       "      <th>min</th>\n",
       "      <td>1.616804e+09</td>\n",
       "      <td>-175.200000</td>\n",
       "      <td>-54.800000</td>\n",
       "      <td>0.000000</td>\n",
       "      <td>-32.460000</td>\n",
       "      <td>1.000000</td>\n",
       "      <td>0.200000</td>\n",
       "    </tr>\n",
       "    <tr>\n",
       "      <th>25%</th>\n",
       "      <td>1.616804e+09</td>\n",
       "      <td>-62.548350</td>\n",
       "      <td>-6.872800</td>\n",
       "      <td>19.500000</td>\n",
       "      <td>38.880000</td>\n",
       "      <td>62.000000</td>\n",
       "      <td>3.440000</td>\n",
       "    </tr>\n",
       "    <tr>\n",
       "      <th>50%</th>\n",
       "      <td>1.616804e+09</td>\n",
       "      <td>21.513800</td>\n",
       "      <td>22.281200</td>\n",
       "      <td>56.500000</td>\n",
       "      <td>63.500000</td>\n",
       "      <td>76.000000</td>\n",
       "      <td>6.410000</td>\n",
       "    </tr>\n",
       "    <tr>\n",
       "      <th>75%</th>\n",
       "      <td>1.616804e+09</td>\n",
       "      <td>93.779175</td>\n",
       "      <td>48.957950</td>\n",
       "      <td>92.250000</td>\n",
       "      <td>76.012500</td>\n",
       "      <td>88.000000</td>\n",
       "      <td>10.455000</td>\n",
       "    </tr>\n",
       "    <tr>\n",
       "      <th>max</th>\n",
       "      <td>1.616805e+09</td>\n",
       "      <td>179.316700</td>\n",
       "      <td>78.218600</td>\n",
       "      <td>100.000000</td>\n",
       "      <td>89.600000</td>\n",
       "      <td>100.000000</td>\n",
       "      <td>27.630000</td>\n",
       "    </tr>\n",
       "  </tbody>\n",
       "</table>\n",
       "</div>"
      ],
      "text/plain": [
       "               Date   Longitude    Latitude  Cloudiness    Max Temp  \\\n",
       "count  5.480000e+02  548.000000  548.000000  548.000000  548.000000   \n",
       "mean   1.616804e+09   17.190250   21.046384   53.364964   55.393595   \n",
       "std    8.284110e+01   89.260410   32.882065   38.360767   25.681463   \n",
       "min    1.616804e+09 -175.200000  -54.800000    0.000000  -32.460000   \n",
       "25%    1.616804e+09  -62.548350   -6.872800   19.500000   38.880000   \n",
       "50%    1.616804e+09   21.513800   22.281200   56.500000   63.500000   \n",
       "75%    1.616804e+09   93.779175   48.957950   92.250000   76.012500   \n",
       "max    1.616805e+09  179.316700   78.218600  100.000000   89.600000   \n",
       "\n",
       "         Humidity  Wind Speed  \n",
       "count  548.000000  548.000000  \n",
       "mean    72.660584    7.803504  \n",
       "std     21.522611    5.644086  \n",
       "min      1.000000    0.200000  \n",
       "25%     62.000000    3.440000  \n",
       "50%     76.000000    6.410000  \n",
       "75%     88.000000   10.455000  \n",
       "max    100.000000   27.630000  "
      ]
     },
     "execution_count": 18,
     "metadata": {},
     "output_type": "execute_result"
    }
   ],
   "source": [
    "weather_data.describe()"
   ]
  },
  {
   "cell_type": "code",
   "execution_count": 19,
   "metadata": {},
   "outputs": [
    {
     "data": {
      "text/html": [
       "<div>\n",
       "<style scoped>\n",
       "    .dataframe tbody tr th:only-of-type {\n",
       "        vertical-align: middle;\n",
       "    }\n",
       "\n",
       "    .dataframe tbody tr th {\n",
       "        vertical-align: top;\n",
       "    }\n",
       "\n",
       "    .dataframe thead th {\n",
       "        text-align: right;\n",
       "    }\n",
       "</style>\n",
       "<table border=\"1\" class=\"dataframe\">\n",
       "  <thead>\n",
       "    <tr style=\"text-align: right;\">\n",
       "      <th></th>\n",
       "      <th>Date</th>\n",
       "      <th>City</th>\n",
       "      <th>Country</th>\n",
       "      <th>Longitude</th>\n",
       "      <th>Latitude</th>\n",
       "      <th>Cloudiness</th>\n",
       "      <th>Max Temp</th>\n",
       "      <th>Humidity</th>\n",
       "      <th>Wind Speed</th>\n",
       "    </tr>\n",
       "  </thead>\n",
       "  <tbody>\n",
       "    <tr>\n",
       "      <th>46</th>\n",
       "      <td>1616804110</td>\n",
       "      <td>George Town</td>\n",
       "      <td>MY</td>\n",
       "      <td>100.3354</td>\n",
       "      <td>5.4112</td>\n",
       "      <td>40</td>\n",
       "      <td>78.01</td>\n",
       "      <td>100</td>\n",
       "      <td>2.15</td>\n",
       "    </tr>\n",
       "    <tr>\n",
       "      <th>109</th>\n",
       "      <td>1616804347</td>\n",
       "      <td>Cabedelo</td>\n",
       "      <td>BR</td>\n",
       "      <td>-34.8339</td>\n",
       "      <td>-6.9811</td>\n",
       "      <td>40</td>\n",
       "      <td>75.20</td>\n",
       "      <td>100</td>\n",
       "      <td>5.75</td>\n",
       "    </tr>\n",
       "    <tr>\n",
       "      <th>152</th>\n",
       "      <td>1616804367</td>\n",
       "      <td>Nikolskoye</td>\n",
       "      <td>RU</td>\n",
       "      <td>30.7861</td>\n",
       "      <td>59.7035</td>\n",
       "      <td>75</td>\n",
       "      <td>34.00</td>\n",
       "      <td>100</td>\n",
       "      <td>2.24</td>\n",
       "    </tr>\n",
       "    <tr>\n",
       "      <th>153</th>\n",
       "      <td>1616804368</td>\n",
       "      <td>Kiryat Gat</td>\n",
       "      <td>IL</td>\n",
       "      <td>34.7642</td>\n",
       "      <td>31.6100</td>\n",
       "      <td>99</td>\n",
       "      <td>52.00</td>\n",
       "      <td>100</td>\n",
       "      <td>9.78</td>\n",
       "    </tr>\n",
       "    <tr>\n",
       "      <th>162</th>\n",
       "      <td>1616804371</td>\n",
       "      <td>Dikson</td>\n",
       "      <td>RU</td>\n",
       "      <td>80.5464</td>\n",
       "      <td>73.5069</td>\n",
       "      <td>100</td>\n",
       "      <td>-6.25</td>\n",
       "      <td>100</td>\n",
       "      <td>10.87</td>\n",
       "    </tr>\n",
       "    <tr>\n",
       "      <th>176</th>\n",
       "      <td>1616804376</td>\n",
       "      <td>Walvis Bay</td>\n",
       "      <td>NA</td>\n",
       "      <td>14.5053</td>\n",
       "      <td>-22.9575</td>\n",
       "      <td>37</td>\n",
       "      <td>61.00</td>\n",
       "      <td>100</td>\n",
       "      <td>2.30</td>\n",
       "    </tr>\n",
       "    <tr>\n",
       "      <th>184</th>\n",
       "      <td>1616804379</td>\n",
       "      <td>Colon</td>\n",
       "      <td>VE</td>\n",
       "      <td>-72.2605</td>\n",
       "      <td>8.0313</td>\n",
       "      <td>75</td>\n",
       "      <td>71.60</td>\n",
       "      <td>100</td>\n",
       "      <td>3.44</td>\n",
       "    </tr>\n",
       "    <tr>\n",
       "      <th>219</th>\n",
       "      <td>1616804398</td>\n",
       "      <td>Aksarka</td>\n",
       "      <td>RU</td>\n",
       "      <td>67.7975</td>\n",
       "      <td>66.5606</td>\n",
       "      <td>86</td>\n",
       "      <td>-9.31</td>\n",
       "      <td>100</td>\n",
       "      <td>2.17</td>\n",
       "    </tr>\n",
       "    <tr>\n",
       "      <th>229</th>\n",
       "      <td>1616804402</td>\n",
       "      <td>Torbay</td>\n",
       "      <td>CA</td>\n",
       "      <td>-52.7314</td>\n",
       "      <td>47.6666</td>\n",
       "      <td>90</td>\n",
       "      <td>44.01</td>\n",
       "      <td>100</td>\n",
       "      <td>9.22</td>\n",
       "    </tr>\n",
       "    <tr>\n",
       "      <th>235</th>\n",
       "      <td>1616804404</td>\n",
       "      <td>Kupang</td>\n",
       "      <td>ID</td>\n",
       "      <td>123.5833</td>\n",
       "      <td>-10.1667</td>\n",
       "      <td>20</td>\n",
       "      <td>82.40</td>\n",
       "      <td>100</td>\n",
       "      <td>1.14</td>\n",
       "    </tr>\n",
       "    <tr>\n",
       "      <th>291</th>\n",
       "      <td>1616804430</td>\n",
       "      <td>Volnovakha</td>\n",
       "      <td>UA</td>\n",
       "      <td>37.4967</td>\n",
       "      <td>47.6010</td>\n",
       "      <td>87</td>\n",
       "      <td>35.01</td>\n",
       "      <td>100</td>\n",
       "      <td>17.00</td>\n",
       "    </tr>\n",
       "    <tr>\n",
       "      <th>305</th>\n",
       "      <td>1616804377</td>\n",
       "      <td>Padang</td>\n",
       "      <td>ID</td>\n",
       "      <td>100.3543</td>\n",
       "      <td>-0.9492</td>\n",
       "      <td>40</td>\n",
       "      <td>75.20</td>\n",
       "      <td>100</td>\n",
       "      <td>2.30</td>\n",
       "    </tr>\n",
       "    <tr>\n",
       "      <th>402</th>\n",
       "      <td>1616804480</td>\n",
       "      <td>Leticia</td>\n",
       "      <td>CO</td>\n",
       "      <td>-69.9406</td>\n",
       "      <td>-4.2153</td>\n",
       "      <td>40</td>\n",
       "      <td>77.00</td>\n",
       "      <td>100</td>\n",
       "      <td>2.30</td>\n",
       "    </tr>\n",
       "    <tr>\n",
       "      <th>404</th>\n",
       "      <td>1616804481</td>\n",
       "      <td>Lewiston</td>\n",
       "      <td>US</td>\n",
       "      <td>-70.2148</td>\n",
       "      <td>44.1003</td>\n",
       "      <td>20</td>\n",
       "      <td>53.01</td>\n",
       "      <td>100</td>\n",
       "      <td>3.44</td>\n",
       "    </tr>\n",
       "    <tr>\n",
       "      <th>435</th>\n",
       "      <td>1616804498</td>\n",
       "      <td>Shelburne</td>\n",
       "      <td>CA</td>\n",
       "      <td>-80.2041</td>\n",
       "      <td>44.0787</td>\n",
       "      <td>96</td>\n",
       "      <td>35.01</td>\n",
       "      <td>100</td>\n",
       "      <td>9.55</td>\n",
       "    </tr>\n",
       "    <tr>\n",
       "      <th>497</th>\n",
       "      <td>1616804527</td>\n",
       "      <td>Frontignan</td>\n",
       "      <td>FR</td>\n",
       "      <td>3.7540</td>\n",
       "      <td>43.4485</td>\n",
       "      <td>75</td>\n",
       "      <td>54.00</td>\n",
       "      <td>100</td>\n",
       "      <td>4.61</td>\n",
       "    </tr>\n",
       "    <tr>\n",
       "      <th>520</th>\n",
       "      <td>1616804537</td>\n",
       "      <td>Iisalmi</td>\n",
       "      <td>FI</td>\n",
       "      <td>27.1907</td>\n",
       "      <td>63.5592</td>\n",
       "      <td>89</td>\n",
       "      <td>28.40</td>\n",
       "      <td>100</td>\n",
       "      <td>4.61</td>\n",
       "    </tr>\n",
       "    <tr>\n",
       "      <th>536</th>\n",
       "      <td>1616804542</td>\n",
       "      <td>Sri Aman</td>\n",
       "      <td>MY</td>\n",
       "      <td>111.4621</td>\n",
       "      <td>1.2376</td>\n",
       "      <td>40</td>\n",
       "      <td>73.40</td>\n",
       "      <td>100</td>\n",
       "      <td>3.44</td>\n",
       "    </tr>\n",
       "  </tbody>\n",
       "</table>\n",
       "</div>"
      ],
      "text/plain": [
       "           Date         City Country  Longitude  Latitude  Cloudiness  \\\n",
       "46   1616804110  George Town      MY   100.3354    5.4112          40   \n",
       "109  1616804347     Cabedelo      BR   -34.8339   -6.9811          40   \n",
       "152  1616804367   Nikolskoye      RU    30.7861   59.7035          75   \n",
       "153  1616804368   Kiryat Gat      IL    34.7642   31.6100          99   \n",
       "162  1616804371       Dikson      RU    80.5464   73.5069         100   \n",
       "176  1616804376   Walvis Bay      NA    14.5053  -22.9575          37   \n",
       "184  1616804379        Colon      VE   -72.2605    8.0313          75   \n",
       "219  1616804398      Aksarka      RU    67.7975   66.5606          86   \n",
       "229  1616804402       Torbay      CA   -52.7314   47.6666          90   \n",
       "235  1616804404       Kupang      ID   123.5833  -10.1667          20   \n",
       "291  1616804430   Volnovakha      UA    37.4967   47.6010          87   \n",
       "305  1616804377       Padang      ID   100.3543   -0.9492          40   \n",
       "402  1616804480      Leticia      CO   -69.9406   -4.2153          40   \n",
       "404  1616804481     Lewiston      US   -70.2148   44.1003          20   \n",
       "435  1616804498    Shelburne      CA   -80.2041   44.0787          96   \n",
       "497  1616804527   Frontignan      FR     3.7540   43.4485          75   \n",
       "520  1616804537      Iisalmi      FI    27.1907   63.5592          89   \n",
       "536  1616804542     Sri Aman      MY   111.4621    1.2376          40   \n",
       "\n",
       "     Max Temp  Humidity  Wind Speed  \n",
       "46      78.01       100        2.15  \n",
       "109     75.20       100        5.75  \n",
       "152     34.00       100        2.24  \n",
       "153     52.00       100        9.78  \n",
       "162     -6.25       100       10.87  \n",
       "176     61.00       100        2.30  \n",
       "184     71.60       100        3.44  \n",
       "219     -9.31       100        2.17  \n",
       "229     44.01       100        9.22  \n",
       "235     82.40       100        1.14  \n",
       "291     35.01       100       17.00  \n",
       "305     75.20       100        2.30  \n",
       "402     77.00       100        2.30  \n",
       "404     53.01       100        3.44  \n",
       "435     35.01       100        9.55  \n",
       "497     54.00       100        4.61  \n",
       "520     28.40       100        4.61  \n",
       "536     73.40       100        3.44  "
      ]
     },
     "execution_count": 19,
     "metadata": {},
     "output_type": "execute_result"
    }
   ],
   "source": [
    "humidity_test = weather_data.loc[weather_data['Humidity'] > 99]\n",
    "humidity_test"
   ]
  },
  {
   "cell_type": "code",
   "execution_count": 20,
   "metadata": {},
   "outputs": [
    {
     "name": "stdout",
     "output_type": "stream",
     "text": [
      "The max humidity in the dataframe is 100.  Therefore, none of the cities have humidity >100\n"
     ]
    }
   ],
   "source": [
    "print(f\"The max humidity in the dataframe is 100.  Therefore, none of the cities have humidity >100\")"
   ]
  },
  {
   "cell_type": "markdown",
   "metadata": {},
   "source": [
    "## Plotting the Data\n",
    "* Use proper labeling of the plots using plot titles (including date of analysis) and axes labels.\n",
    "* Save the plotted figures as .pngs."
   ]
  },
  {
   "cell_type": "markdown",
   "metadata": {},
   "source": [
    "## Latitude vs. Temperature Plot"
   ]
  },
  {
   "cell_type": "code",
   "execution_count": 21,
   "metadata": {
    "scrolled": true
   },
   "outputs": [
    {
     "data": {
      "image/png": "[encoded data removed]",
      "text/plain": [
       "<Figure size 432x288 with 1 Axes>"
      ]
     },
     "metadata": {
      "needs_background": "light"
     },
     "output_type": "display_data"
    }
   ],
   "source": [
    "lat_vs_temp = weather_data.plot(kind = \"scatter\", x = \"Latitude\", y = \"Max Temp\", title = \"Maximum Temperature (F) Vs Latitude\")\n",
    "plt.show()"
   ]
  },
  {
   "cell_type": "markdown",
   "metadata": {},
   "source": [
    "## Latitude vs. Humidity Plot"
   ]
  },
  {
   "cell_type": "code",
   "execution_count": 22,
   "metadata": {},
   "outputs": [
    {
     "data": {
      "image/png": "[encoded data removed]",
      "text/plain": [
       "<Figure size 432x288 with 1 Axes>"
      ]
     },
     "metadata": {
      "needs_background": "light"
     },
     "output_type": "display_data"
    }
   ],
   "source": [
    "lat_vs_humidity = weather_data.plot(kind = \"scatter\", x = \"Latitude\", y = \"Humidity\", title = \"Humidity vs Latitude\")\n",
    "plt.show()"
   ]
  },
  {
   "cell_type": "markdown",
   "metadata": {},
   "source": [
    "## Latitude vs. Cloudiness Plot"
   ]
  },
  {
   "cell_type": "code",
   "execution_count": 23,
   "metadata": {},
   "outputs": [
    {
     "data": {
      "image/png": "[encoded data removed]",
      "text/plain": [
       "<Figure size 432x288 with 1 Axes>"
      ]
     },
     "metadata": {
      "needs_background": "light"
     },
     "output_type": "display_data"
    }
   ],
   "source": [
    "lat_vs_cloudiness = weather_data.plot(kind = \"scatter\", x = \"Latitude\", y = \"Cloudiness\", title = \"Cloudiness Vs Latitude\")\n",
    "plt.show()"
   ]
  },
  {
   "cell_type": "markdown",
   "metadata": {},
   "source": [
    "## Latitude vs. Wind Speed Plot"
   ]
  },
  {
   "cell_type": "code",
   "execution_count": 24,
   "metadata": {},
   "outputs": [
    {
     "data": {
      "image/png": "[encoded data removed]",
      "text/plain": [
       "<Figure size 432x288 with 1 Axes>"
      ]
     },
     "metadata": {
      "needs_background": "light"
     },
     "output_type": "display_data"
    }
   ],
   "source": [
    "lat_vs_windspeed = weather_data.plot(kind = \"scatter\", x = \"Latitude\", y = \"Wind Speed\", title = \"Wind Speed Vs Latitude\")\n",
    "plt.show()"
   ]
  },
  {
   "cell_type": "markdown",
   "metadata": {},
   "source": [
    "## Linear Regression"
   ]
  },
  {
   "cell_type": "code",
   "execution_count": 28,
   "metadata": {},
   "outputs": [],
   "source": [
    "def plot_linear_regression(x_value, y_value, title, text_coordinates):\n",
    "    \n",
    "    #Southern Hemisphere Regression\n",
    "    (slope, intercept, rvalue, pvalue, stderr) = linregress(x_value, y_value)\n",
    "    regress_value = x_value * slope + intercept\n",
    "    line_eq = \"y = \" + str(round(slope,2)) + \"x + \" + str(round(intercept,2)) \n",
    "    \n",
    "    #plot\n",
    "    plt.scatter(x_value, y_value)\n",
    "    plt.plot(x_value, regress_value, \"r-\")\n",
    "    plt.annotate(line_eq, text_coordinates, fontsize = 15, color = \"red\")\n",
    "    plt.xlabel('Latitude')\n",
    "    plt.ylabel(title)\n",
    "    print(f\" The r-value is : {rvalue**2}\")\n",
    "    plt.show()"
   ]
  },
  {
   "cell_type": "code",
   "execution_count": 29,
   "metadata": {},
   "outputs": [
    {
     "name": "stdout",
     "output_type": "stream",
     "text": [
      "379\n",
      "169\n",
      "There are 379 cities in the Northern Hemisphere\n",
      "There are 169 cities in the Southern Hemisphere\n"
     ]
    }
   ],
   "source": [
    "#Seperate cities in dataset according to Northern and Southern Hemisphere.\n",
    "\n",
    "nth_hem = weather_data.loc[weather_data[\"Latitude\"] >= 0]\n",
    "sth_hem = weather_data.loc[weather_data[\"Latitude\"] < 0]\n",
    "\n",
    "print(len(nth_hem))\n",
    "print(len(sth_hem))\n",
    "print(f\"There are {len(nth_hem)} cities in the Northern Hemisphere\")\n",
    "print(f\"There are {len(sth_hem)} cities in the Southern Hemisphere\")\n",
    "\n",
    "\n"
   ]
  },
  {
   "cell_type": "markdown",
   "metadata": {},
   "source": [
    "####  Northern Hemisphere - Max Temp vs. Latitude Linear Regression"
   ]
  },
  {
   "cell_type": "code",
   "execution_count": 32,
   "metadata": {},
   "outputs": [
    {
     "data": {
      "text/html": [
       "<div>\n",
       "<style scoped>\n",
       "    .dataframe tbody tr th:only-of-type {\n",
       "        vertical-align: middle;\n",
       "    }\n",
       "\n",
       "    .dataframe tbody tr th {\n",
       "        vertical-align: top;\n",
       "    }\n",
       "\n",
       "    .dataframe thead th {\n",
       "        text-align: right;\n",
       "    }\n",
       "</style>\n",
       "<table border=\"1\" class=\"dataframe\">\n",
       "  <thead>\n",
       "    <tr style=\"text-align: right;\">\n",
       "      <th></th>\n",
       "      <th>Date</th>\n",
       "      <th>City</th>\n",
       "      <th>Country</th>\n",
       "      <th>Longitude</th>\n",
       "      <th>Latitude</th>\n",
       "      <th>Cloudiness</th>\n",
       "      <th>Max Temp</th>\n",
       "      <th>Humidity</th>\n",
       "      <th>Wind Speed</th>\n",
       "    </tr>\n",
       "  </thead>\n",
       "  <tbody>\n",
       "    <tr>\n",
       "      <th>1</th>\n",
       "      <td>1616804300</td>\n",
       "      <td>Tiksi</td>\n",
       "      <td>RU</td>\n",
       "      <td>128.8694</td>\n",
       "      <td>71.6872</td>\n",
       "      <td>100</td>\n",
       "      <td>10.83</td>\n",
       "      <td>91</td>\n",
       "      <td>6.51</td>\n",
       "    </tr>\n",
       "    <tr>\n",
       "      <th>2</th>\n",
       "      <td>1616804301</td>\n",
       "      <td>Harwich</td>\n",
       "      <td>GB</td>\n",
       "      <td>1.2844</td>\n",
       "      <td>51.9419</td>\n",
       "      <td>56</td>\n",
       "      <td>42.01</td>\n",
       "      <td>71</td>\n",
       "      <td>10.00</td>\n",
       "    </tr>\n",
       "    <tr>\n",
       "      <th>5</th>\n",
       "      <td>1616804302</td>\n",
       "      <td>Norman Wells</td>\n",
       "      <td>CA</td>\n",
       "      <td>-126.8329</td>\n",
       "      <td>65.2820</td>\n",
       "      <td>75</td>\n",
       "      <td>30.20</td>\n",
       "      <td>47</td>\n",
       "      <td>2.30</td>\n",
       "    </tr>\n",
       "    <tr>\n",
       "      <th>7</th>\n",
       "      <td>1616804303</td>\n",
       "      <td>Matara</td>\n",
       "      <td>LK</td>\n",
       "      <td>80.5353</td>\n",
       "      <td>5.9485</td>\n",
       "      <td>100</td>\n",
       "      <td>76.87</td>\n",
       "      <td>87</td>\n",
       "      <td>7.90</td>\n",
       "    </tr>\n",
       "    <tr>\n",
       "      <th>8</th>\n",
       "      <td>1616804303</td>\n",
       "      <td>Yarmouth</td>\n",
       "      <td>US</td>\n",
       "      <td>-70.2286</td>\n",
       "      <td>41.7057</td>\n",
       "      <td>1</td>\n",
       "      <td>54.00</td>\n",
       "      <td>93</td>\n",
       "      <td>14.97</td>\n",
       "    </tr>\n",
       "  </tbody>\n",
       "</table>\n",
       "</div>"
      ],
      "text/plain": [
       "         Date          City Country  Longitude  Latitude  Cloudiness  \\\n",
       "1  1616804300         Tiksi      RU   128.8694   71.6872         100   \n",
       "2  1616804301       Harwich      GB     1.2844   51.9419          56   \n",
       "5  1616804302  Norman Wells      CA  -126.8329   65.2820          75   \n",
       "7  1616804303        Matara      LK    80.5353    5.9485         100   \n",
       "8  1616804303      Yarmouth      US   -70.2286   41.7057           1   \n",
       "\n",
       "   Max Temp  Humidity  Wind Speed  \n",
       "1     10.83        91        6.51  \n",
       "2     42.01        71       10.00  \n",
       "5     30.20        47        2.30  \n",
       "7     76.87        87        7.90  \n",
       "8     54.00        93       14.97  "
      ]
     },
     "execution_count": 32,
     "metadata": {},
     "output_type": "execute_result"
    }
   ],
   "source": [
    "nth_hem.head()"
   ]
  },
  {
   "cell_type": "code",
   "execution_count": 33,
   "metadata": {},
   "outputs": [
    {
     "name": "stdout",
     "output_type": "stream",
     "text": [
      " The r-value is : 0.7958201090030961\n"
     ]
    },
    {
     "data": {
      "image/png": "[encoded data removed]",
      "text/plain": [
       "<Figure size 432x288 with 1 Axes>"
      ]
     },
     "metadata": {
      "needs_background": "light"
     },
     "output_type": "display_data"
    }
   ],
   "source": [
    "#Linear Regression for Northern Hemisphere\n",
    "x_value = nth_hem[\"Latitude\"]\n",
    "y_value = nth_hem[\"Max Temp\"]\n",
    "plot_linear_regression(x_value, y_value, 'Max Temp', (6, 30))"
   ]
  },
  {
   "cell_type": "markdown",
   "metadata": {},
   "source": [
    "####  Southern Hemisphere - Max Temp vs. Latitude Linear Regression"
   ]
  },
  {
   "cell_type": "code",
   "execution_count": 38,
   "metadata": {},
   "outputs": [
    {
     "name": "stdout",
     "output_type": "stream",
     "text": [
      " The r-value is : 0.3349672110480018\n"
     ]
    },
    {
     "data": {
      "image/png": "[encoded data removed]",
      "text/plain": [
       "<Figure size 432x288 with 1 Axes>"
      ]
     },
     "metadata": {
      "needs_background": "light"
     },
     "output_type": "display_data"
    }
   ],
   "source": [
    "x_value = sth_hem[\"Latitude\"]\n",
    "y_value = sth_hem[\"Max Temp\"]\n",
    "plot_linear_regression(x_value, y_value, 'Max Temp', (-55, 90))"
   ]
  },
  {
   "cell_type": "markdown",
   "metadata": {},
   "source": [
    "####  Northern Hemisphere - Humidity (%) vs. Latitude Linear Regression"
   ]
  },
  {
   "cell_type": "code",
   "execution_count": 39,
   "metadata": {},
   "outputs": [
    {
     "name": "stdout",
     "output_type": "stream",
     "text": [
      " The r-value is : 0.06878990529812921\n"
     ]
    },
    {
     "data": {
      "image/png": "[encoded data removed]",
      "text/plain": [
       "<Figure size 432x288 with 1 Axes>"
      ]
     },
     "metadata": {
      "needs_background": "light"
     },
     "output_type": "display_data"
    }
   ],
   "source": [
    "x_value = nth_hem[\"Latitude\"]\n",
    "y_value = nth_hem[\"Humidity\"]\n",
    "plot_linear_regression(x_value, y_value, 'Humidity', (40, 10))"
   ]
  },
  {
   "cell_type": "markdown",
   "metadata": {},
   "source": [
    "####  Southern Hemisphere - Humidity (%) vs. Latitude Linear Regression"
   ]
  },
  {
   "cell_type": "code",
   "execution_count": 40,
   "metadata": {},
   "outputs": [
    {
     "name": "stdout",
     "output_type": "stream",
     "text": [
      " The r-value is : 0.058185798614256386\n"
     ]
    },
    {
     "data": {
      "image/png": "[encoded data removed]",
      "text/plain": [
       "<Figure size 432x288 with 1 Axes>"
      ]
     },
     "metadata": {
      "needs_background": "light"
     },
     "output_type": "display_data"
    }
   ],
   "source": [
    "x_value = sth_hem[\"Latitude\"]\n",
    "y_value = sth_hem[\"Humidity\"]\n",
    "plot_linear_regression(x_value, y_value, 'Humidity', (6, 30))"
   ]
  },
  {
   "cell_type": "markdown",
   "metadata": {},
   "source": [
    "####  Northern Hemisphere - Cloudiness (%) vs. Latitude Linear Regression"
   ]
  },
  {
   "cell_type": "code",
   "execution_count": 42,
   "metadata": {},
   "outputs": [
    {
     "name": "stdout",
     "output_type": "stream",
     "text": [
      " The r-value is : 0.06958137368448657\n"
     ]
    },
    {
     "data": {
      "image/png": "[encoded data removed]",
      "text/plain": [
       "<Figure size 432x288 with 1 Axes>"
      ]
     },
     "metadata": {
      "needs_background": "light"
     },
     "output_type": "display_data"
    }
   ],
   "source": [
    "x_value = nth_hem[\"Latitude\"]\n",
    "y_value = nth_hem[\"Cloudiness\"]\n",
    "plot_linear_regression(x_value, y_value, 'Cloudiness', (40, 10))"
   ]
  },
  {
   "cell_type": "markdown",
   "metadata": {},
   "source": [
    "####  Southern Hemisphere - Cloudiness (%) vs. Latitude Linear Regression"
   ]
  },
  {
   "cell_type": "code",
   "execution_count": 43,
   "metadata": {},
   "outputs": [
    {
     "name": "stdout",
     "output_type": "stream",
     "text": [
      " The r-value is : 0.02786096782777492\n"
     ]
    },
    {
     "data": {
      "image/png": "[encoded data removed]",
      "text/plain": [
       "<Figure size 432x288 with 1 Axes>"
      ]
     },
     "metadata": {
      "needs_background": "light"
     },
     "output_type": "display_data"
    }
   ],
   "source": [
    "x_value = sth_hem[\"Latitude\"]\n",
    "y_value = sth_hem[\"Cloudiness\"]\n",
    "plot_linear_regression(x_value, y_value, 'Cloudiness', (-30, 30))"
   ]
  },
  {
   "cell_type": "markdown",
   "metadata": {},
   "source": [
    "####  Northern Hemisphere - Wind Speed (mph) vs. Latitude Linear Regression"
   ]
  },
  {
   "cell_type": "code",
   "execution_count": 44,
   "metadata": {},
   "outputs": [
    {
     "name": "stdout",
     "output_type": "stream",
     "text": [
      " The r-value is : 6.409457063148564e-05\n"
     ]
    },
    {
     "data": {
      "image/png": "[encoded data removed]",
      "text/plain": [
       "<Figure size 432x288 with 1 Axes>"
      ]
     },
     "metadata": {
      "needs_background": "light"
     },
     "output_type": "display_data"
    }
   ],
   "source": [
    "x_value = nth_hem[\"Latitude\"]\n",
    "y_value = nth_hem[\"Wind Speed\"]\n",
    "plot_linear_regression(x_value, y_value, 'Wind Speed', (40, 25))"
   ]
  },
  {
   "cell_type": "markdown",
   "metadata": {},
   "source": [
    "####  Southern Hemisphere - Wind Speed (mph) vs. Latitude Linear Regression"
   ]
  },
  {
   "cell_type": "code",
   "execution_count": 45,
   "metadata": {},
   "outputs": [
    {
     "name": "stdout",
     "output_type": "stream",
     "text": [
      " The r-value is : 0.040691663780998415\n"
     ]
    },
    {
     "data": {
      "image/png": "[encoded data removed]",
      "text/plain": [
       "<Figure size 432x288 with 1 Axes>"
      ]
     },
     "metadata": {
      "needs_background": "light"
     },
     "output_type": "display_data"
    }
   ],
   "source": [
    "x_value = sth_hem[\"Latitude\"]\n",
    "y_value = sth_hem[\"Wind Speed\"]\n",
    "plot_linear_regression(x_value, y_value, 'Wind Speed', (50, 20))"
   ]
  },
  {
   "cell_type": "code",
   "execution_count": null,
   "metadata": {},
   "outputs": [],
   "source": []
  }
 ],
 "metadata": {
  "anaconda-cloud": {},
  "kernel_info": {
   "name": "python3"
  },
  "kernelspec": {
   "display_name": "Python 3",
   "language": "python",
   "name": "python3"
  },
  "language_info": {
   "codemirror_mode": {
    "name": "ipython",
    "version": 3
   },
   "file_extension": ".py",
   "mimetype": "text/x-python",
   "name": "python",
   "nbconvert_exporter": "python",
   "pygments_lexer": "ipython3",
   "version": "3.8.5"
  },
  "latex_envs": {
   "LaTeX_envs_menu_present": true,
   "autoclose": false,
   "autocomplete": true,
   "bibliofile": "biblio.bib",
   "cite_by": "apalike",
   "current_citInitial": 1,
   "eqLabelWithNumbers": true,
   "eqNumInitial": 1,
   "hotkeys": {
    "equation": "Ctrl-E",
    "itemize": "Ctrl-I"
   },
   "labels_anchors": false,
   "latex_user_defs": false,
   "report_style_numbering": false,
   "user_envs_cfg": false
  },
  "nteract": {
   "version": "0.12.3"
  }
 },
 "nbformat": 4,
 "nbformat_minor": 2
}
